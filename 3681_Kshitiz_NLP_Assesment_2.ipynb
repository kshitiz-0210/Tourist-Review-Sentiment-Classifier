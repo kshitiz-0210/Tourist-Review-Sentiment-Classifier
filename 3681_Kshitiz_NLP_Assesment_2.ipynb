{
 "cells": [
  {
   "cell_type": "markdown",
   "id": "a56eaa65",
   "metadata": {},
   "source": [
    "### Installing Important Libraries"
   ]
  },
  {
   "cell_type": "code",
   "execution_count": 1,
   "id": "eba9c884",
   "metadata": {},
   "outputs": [
    {
     "name": "stdout",
     "output_type": "stream",
     "text": [
      "Defaulting to user installation because normal site-packages is not writeable\n",
      "Requirement already satisfied: spacy in c:\\users\\kshitiz.s.lv\\appdata\\roaming\\python\\python311\\site-packages (3.7.4)\n",
      "Requirement already satisfied: spacy-legacy<3.1.0,>=3.0.11 in c:\\users\\kshitiz.s.lv\\appdata\\roaming\\python\\python311\\site-packages (from spacy) (3.0.12)\n",
      "Requirement already satisfied: spacy-loggers<2.0.0,>=1.0.0 in c:\\users\\kshitiz.s.lv\\appdata\\roaming\\python\\python311\\site-packages (from spacy) (1.0.5)\n",
      "Requirement already satisfied: murmurhash<1.1.0,>=0.28.0 in c:\\users\\kshitiz.s.lv\\appdata\\roaming\\python\\python311\\site-packages (from spacy) (1.0.10)\n",
      "Requirement already satisfied: cymem<2.1.0,>=2.0.2 in c:\\users\\kshitiz.s.lv\\appdata\\roaming\\python\\python311\\site-packages (from spacy) (2.0.8)\n",
      "Requirement already satisfied: preshed<3.1.0,>=3.0.2 in c:\\users\\kshitiz.s.lv\\appdata\\roaming\\python\\python311\\site-packages (from spacy) (3.0.9)\n",
      "Requirement already satisfied: thinc<8.3.0,>=8.2.2 in c:\\users\\kshitiz.s.lv\\appdata\\roaming\\python\\python311\\site-packages (from spacy) (8.2.3)\n",
      "Requirement already satisfied: wasabi<1.2.0,>=0.9.1 in c:\\users\\kshitiz.s.lv\\appdata\\roaming\\python\\python311\\site-packages (from spacy) (1.1.2)\n",
      "Requirement already satisfied: srsly<3.0.0,>=2.4.3 in c:\\users\\kshitiz.s.lv\\appdata\\roaming\\python\\python311\\site-packages (from spacy) (2.4.8)\n",
      "Requirement already satisfied: catalogue<2.1.0,>=2.0.6 in c:\\users\\kshitiz.s.lv\\appdata\\roaming\\python\\python311\\site-packages (from spacy) (2.0.10)\n",
      "Requirement already satisfied: weasel<0.4.0,>=0.1.0 in c:\\users\\kshitiz.s.lv\\appdata\\roaming\\python\\python311\\site-packages (from spacy) (0.3.4)\n",
      "Requirement already satisfied: typer<0.10.0,>=0.3.0 in c:\\users\\kshitiz.s.lv\\appdata\\roaming\\python\\python311\\site-packages (from spacy) (0.9.0)\n",
      "Requirement already satisfied: smart-open<7.0.0,>=5.2.1 in c:\\programdata\\anaconda3\\lib\\site-packages (from spacy) (5.2.1)\n",
      "Requirement already satisfied: tqdm<5.0.0,>=4.38.0 in c:\\programdata\\anaconda3\\lib\\site-packages (from spacy) (4.65.0)\n",
      "Requirement already satisfied: requests<3.0.0,>=2.13.0 in c:\\programdata\\anaconda3\\lib\\site-packages (from spacy) (2.31.0)\n",
      "Requirement already satisfied: pydantic!=1.8,!=1.8.1,<3.0.0,>=1.7.4 in c:\\programdata\\anaconda3\\lib\\site-packages (from spacy) (1.10.8)\n",
      "Requirement already satisfied: jinja2 in c:\\programdata\\anaconda3\\lib\\site-packages (from spacy) (3.1.2)\n",
      "Requirement already satisfied: setuptools in c:\\programdata\\anaconda3\\lib\\site-packages (from spacy) (68.0.0)\n",
      "Requirement already satisfied: packaging>=20.0 in c:\\programdata\\anaconda3\\lib\\site-packages (from spacy) (23.1)\n",
      "Requirement already satisfied: langcodes<4.0.0,>=3.2.0 in c:\\users\\kshitiz.s.lv\\appdata\\roaming\\python\\python311\\site-packages (from spacy) (3.3.0)\n",
      "Requirement already satisfied: numpy>=1.19.0 in c:\\programdata\\anaconda3\\lib\\site-packages (from spacy) (1.24.3)\n",
      "Requirement already satisfied: typing-extensions>=4.2.0 in c:\\programdata\\anaconda3\\lib\\site-packages (from pydantic!=1.8,!=1.8.1,<3.0.0,>=1.7.4->spacy) (4.7.1)\n",
      "Requirement already satisfied: charset-normalizer<4,>=2 in c:\\programdata\\anaconda3\\lib\\site-packages (from requests<3.0.0,>=2.13.0->spacy) (2.0.4)\n",
      "Requirement already satisfied: idna<4,>=2.5 in c:\\programdata\\anaconda3\\lib\\site-packages (from requests<3.0.0,>=2.13.0->spacy) (3.4)\n",
      "Requirement already satisfied: urllib3<3,>=1.21.1 in c:\\programdata\\anaconda3\\lib\\site-packages (from requests<3.0.0,>=2.13.0->spacy) (1.26.16)\n",
      "Requirement already satisfied: certifi>=2017.4.17 in c:\\programdata\\anaconda3\\lib\\site-packages (from requests<3.0.0,>=2.13.0->spacy) (2023.7.22)\n",
      "Requirement already satisfied: blis<0.8.0,>=0.7.8 in c:\\users\\kshitiz.s.lv\\appdata\\roaming\\python\\python311\\site-packages (from thinc<8.3.0,>=8.2.2->spacy) (0.7.11)\n",
      "Requirement already satisfied: confection<1.0.0,>=0.0.1 in c:\\users\\kshitiz.s.lv\\appdata\\roaming\\python\\python311\\site-packages (from thinc<8.3.0,>=8.2.2->spacy) (0.1.4)\n",
      "Requirement already satisfied: colorama in c:\\programdata\\anaconda3\\lib\\site-packages (from tqdm<5.0.0,>=4.38.0->spacy) (0.4.6)\n",
      "Requirement already satisfied: click<9.0.0,>=7.1.1 in c:\\programdata\\anaconda3\\lib\\site-packages (from typer<0.10.0,>=0.3.0->spacy) (8.0.4)\n",
      "Requirement already satisfied: cloudpathlib<0.17.0,>=0.7.0 in c:\\users\\kshitiz.s.lv\\appdata\\roaming\\python\\python311\\site-packages (from weasel<0.4.0,>=0.1.0->spacy) (0.16.0)\n",
      "Requirement already satisfied: MarkupSafe>=2.0 in c:\\programdata\\anaconda3\\lib\\site-packages (from jinja2->spacy) (2.1.1)\n",
      "Note: you may need to restart the kernel to use updated packages.\n"
     ]
    }
   ],
   "source": [
    "pip install spacy"
   ]
  },
  {
   "cell_type": "code",
   "execution_count": 2,
   "id": "b309bbaa",
   "metadata": {},
   "outputs": [
    {
     "name": "stdout",
     "output_type": "stream",
     "text": [
      "Defaulting to user installation because normal site-packages is not writeable\n",
      "Collecting en-core-web-sm==3.7.1\n",
      "  Downloading https://github.com/explosion/spacy-models/releases/download/en_core_web_sm-3.7.1/en_core_web_sm-3.7.1-py3-none-any.whl (12.8 MB)\n",
      "     ---------------------------------------- 0.0/12.8 MB ? eta -:--:--\n",
      "     --------------------------------------- 0.0/12.8 MB 640.0 kB/s eta 0:00:20\n",
      "      --------------------------------------- 0.2/12.8 MB 2.4 MB/s eta 0:00:06\n",
      "     --- ------------------------------------ 1.1/12.8 MB 8.5 MB/s eta 0:00:02\n",
      "     --- ------------------------------------ 1.2/12.8 MB 7.7 MB/s eta 0:00:02\n",
      "     ------ --------------------------------- 2.0/12.8 MB 9.2 MB/s eta 0:00:02\n",
      "     ------- -------------------------------- 2.3/12.8 MB 8.5 MB/s eta 0:00:02\n",
      "     -------- ------------------------------- 2.6/12.8 MB 8.8 MB/s eta 0:00:02\n",
      "     --------- ------------------------------ 3.0/12.8 MB 8.2 MB/s eta 0:00:02\n",
      "     ---------- ----------------------------- 3.2/12.8 MB 8.2 MB/s eta 0:00:02\n",
      "     ---------- ----------------------------- 3.5/12.8 MB 7.7 MB/s eta 0:00:02\n",
      "     ----------- ---------------------------- 3.7/12.8 MB 7.5 MB/s eta 0:00:02\n",
      "     ------------ --------------------------- 3.9/12.8 MB 7.4 MB/s eta 0:00:02\n",
      "     ------------ --------------------------- 4.1/12.8 MB 6.9 MB/s eta 0:00:02\n",
      "     ------------- -------------------------- 4.2/12.8 MB 6.6 MB/s eta 0:00:02\n",
      "     ------------- -------------------------- 4.4/12.8 MB 6.4 MB/s eta 0:00:02\n",
      "     -------------- ------------------------- 4.6/12.8 MB 6.2 MB/s eta 0:00:02\n",
      "     -------------- ------------------------- 4.8/12.8 MB 6.1 MB/s eta 0:00:02\n",
      "     --------------- ------------------------ 4.9/12.8 MB 6.0 MB/s eta 0:00:02\n",
      "     ---------------- ----------------------- 5.2/12.8 MB 5.9 MB/s eta 0:00:02\n",
      "     ---------------- ----------------------- 5.3/12.8 MB 5.8 MB/s eta 0:00:02\n",
      "     ----------------- ---------------------- 5.6/12.8 MB 5.7 MB/s eta 0:00:02\n",
      "     ------------------ --------------------- 5.8/12.8 MB 5.7 MB/s eta 0:00:02\n",
      "     ------------------ --------------------- 6.1/12.8 MB 5.7 MB/s eta 0:00:02\n",
      "     ------------------- -------------------- 6.3/12.8 MB 5.7 MB/s eta 0:00:02\n",
      "     -------------------- ------------------- 6.6/12.8 MB 5.7 MB/s eta 0:00:02\n",
      "     --------------------- ------------------ 6.9/12.8 MB 5.7 MB/s eta 0:00:02\n",
      "     ---------------------- ----------------- 7.2/12.8 MB 5.7 MB/s eta 0:00:01\n",
      "     ----------------------- ---------------- 7.5/12.8 MB 5.8 MB/s eta 0:00:01\n",
      "     ------------------------ --------------- 7.8/12.8 MB 5.8 MB/s eta 0:00:01\n",
      "     ------------------------- -------------- 8.1/12.8 MB 5.8 MB/s eta 0:00:01\n",
      "     -------------------------- ------------- 8.4/12.8 MB 5.8 MB/s eta 0:00:01\n",
      "     --------------------------- ------------ 8.6/12.8 MB 5.9 MB/s eta 0:00:01\n",
      "     --------------------------- ------------ 8.9/12.8 MB 5.9 MB/s eta 0:00:01\n",
      "     ---------------------------- ----------- 9.3/12.8 MB 6.0 MB/s eta 0:00:01\n",
      "     ---------------------------- ----------- 9.3/12.8 MB 6.0 MB/s eta 0:00:01\n",
      "     ---------------------------- ----------- 9.3/12.8 MB 6.0 MB/s eta 0:00:01\n",
      "     ----------------------------- ---------- 9.4/12.8 MB 5.5 MB/s eta 0:00:01\n",
      "     ----------------------------- ---------- 9.4/12.8 MB 5.5 MB/s eta 0:00:01\n",
      "     ----------------------------- ---------- 9.4/12.8 MB 5.5 MB/s eta 0:00:01\n",
      "     ----------------------------- ---------- 9.5/12.8 MB 5.2 MB/s eta 0:00:01\n",
      "     ----------------------------- ---------- 9.5/12.8 MB 5.1 MB/s eta 0:00:01\n",
      "     ----------------------------- ---------- 9.6/12.8 MB 5.0 MB/s eta 0:00:01\n",
      "     ----------------------------- ---------- 9.6/12.8 MB 4.9 MB/s eta 0:00:01\n",
      "     ------------------------------ --------- 9.7/12.8 MB 4.8 MB/s eta 0:00:01\n",
      "     ------------------------------ --------- 9.7/12.8 MB 4.8 MB/s eta 0:00:01\n",
      "     ------------------------------ --------- 9.8/12.8 MB 4.7 MB/s eta 0:00:01\n",
      "     ------------------------------ --------- 9.8/12.8 MB 4.6 MB/s eta 0:00:01\n",
      "     ------------------------------ --------- 9.9/12.8 MB 4.5 MB/s eta 0:00:01\n",
      "     ------------------------------- -------- 10.0/12.8 MB 4.5 MB/s eta 0:00:01\n",
      "     ------------------------------- -------- 10.0/12.8 MB 4.5 MB/s eta 0:00:01\n",
      "     ------------------------------- -------- 10.1/12.8 MB 4.3 MB/s eta 0:00:01\n",
      "     ------------------------------- -------- 10.2/12.8 MB 4.3 MB/s eta 0:00:01\n",
      "     -------------------------------- ------- 10.3/12.8 MB 4.3 MB/s eta 0:00:01\n",
      "     -------------------------------- ------- 10.4/12.8 MB 4.3 MB/s eta 0:00:01\n",
      "     -------------------------------- ------- 10.5/12.8 MB 4.2 MB/s eta 0:00:01\n",
      "     -------------------------------- ------- 10.6/12.8 MB 4.2 MB/s eta 0:00:01\n",
      "     -------------------------------- ------- 10.6/12.8 MB 4.2 MB/s eta 0:00:01\n",
      "     -------------------------------- ------- 10.6/12.8 MB 4.2 MB/s eta 0:00:01\n",
      "     --------------------------------- ------ 10.7/12.8 MB 3.9 MB/s eta 0:00:01\n",
      "     ---------------------------------- ----- 11.0/12.8 MB 3.9 MB/s eta 0:00:01\n",
      "     ---------------------------------- ----- 11.0/12.8 MB 3.9 MB/s eta 0:00:01\n",
      "     ---------------------------------- ----- 11.0/12.8 MB 3.9 MB/s eta 0:00:01\n",
      "     ---------------------------------- ----- 11.1/12.8 MB 3.7 MB/s eta 0:00:01\n",
      "     ----------------------------------- ---- 11.3/12.8 MB 3.7 MB/s eta 0:00:01\n",
      "     ----------------------------------- ---- 11.5/12.8 MB 3.7 MB/s eta 0:00:01\n",
      "     ----------------------------------- ---- 11.5/12.8 MB 3.7 MB/s eta 0:00:01\n",
      "     ------------------------------------ --- 11.6/12.8 MB 3.6 MB/s eta 0:00:01\n",
      "     ------------------------------------ --- 11.7/12.8 MB 3.5 MB/s eta 0:00:01\n",
      "     ------------------------------------- -- 11.9/12.8 MB 3.5 MB/s eta 0:00:01\n",
      "     ------------------------------------- -- 11.9/12.8 MB 3.5 MB/s eta 0:00:01\n",
      "     ------------------------------------- -- 11.9/12.8 MB 3.5 MB/s eta 0:00:01\n",
      "     ------------------------------------- -- 12.0/12.8 MB 3.3 MB/s eta 0:00:01\n",
      "     -------------------------------------- - 12.2/12.8 MB 3.3 MB/s eta 0:00:01\n",
      "     -------------------------------------- - 12.4/12.8 MB 3.3 MB/s eta 0:00:01\n",
      "     -------------------------------------- - 12.4/12.8 MB 3.3 MB/s eta 0:00:01\n",
      "     -------------------------------------- - 12.4/12.8 MB 3.3 MB/s eta 0:00:01\n",
      "     -------------------------------------- - 12.5/12.8 MB 3.2 MB/s eta 0:00:01\n",
      "     ---------------------------------------  12.7/12.8 MB 3.2 MB/s eta 0:00:01\n",
      "     ---------------------------------------  12.8/12.8 MB 3.1 MB/s eta 0:00:01\n",
      "     ---------------------------------------- 12.8/12.8 MB 3.1 MB/s eta 0:00:00\n",
      "Requirement already satisfied: spacy<3.8.0,>=3.7.2 in c:\\users\\kshitiz.s.lv\\appdata\\roaming\\python\\python311\\site-packages (from en-core-web-sm==3.7.1) (3.7.4)\n",
      "Requirement already satisfied: spacy-legacy<3.1.0,>=3.0.11 in c:\\users\\kshitiz.s.lv\\appdata\\roaming\\python\\python311\\site-packages (from spacy<3.8.0,>=3.7.2->en-core-web-sm==3.7.1) (3.0.12)\n",
      "Requirement already satisfied: spacy-loggers<2.0.0,>=1.0.0 in c:\\users\\kshitiz.s.lv\\appdata\\roaming\\python\\python311\\site-packages (from spacy<3.8.0,>=3.7.2->en-core-web-sm==3.7.1) (1.0.5)\n",
      "Requirement already satisfied: murmurhash<1.1.0,>=0.28.0 in c:\\users\\kshitiz.s.lv\\appdata\\roaming\\python\\python311\\site-packages (from spacy<3.8.0,>=3.7.2->en-core-web-sm==3.7.1) (1.0.10)\n",
      "Requirement already satisfied: cymem<2.1.0,>=2.0.2 in c:\\users\\kshitiz.s.lv\\appdata\\roaming\\python\\python311\\site-packages (from spacy<3.8.0,>=3.7.2->en-core-web-sm==3.7.1) (2.0.8)\n",
      "Requirement already satisfied: preshed<3.1.0,>=3.0.2 in c:\\users\\kshitiz.s.lv\\appdata\\roaming\\python\\python311\\site-packages (from spacy<3.8.0,>=3.7.2->en-core-web-sm==3.7.1) (3.0.9)\n",
      "Requirement already satisfied: thinc<8.3.0,>=8.2.2 in c:\\users\\kshitiz.s.lv\\appdata\\roaming\\python\\python311\\site-packages (from spacy<3.8.0,>=3.7.2->en-core-web-sm==3.7.1) (8.2.3)\n",
      "Requirement already satisfied: wasabi<1.2.0,>=0.9.1 in c:\\users\\kshitiz.s.lv\\appdata\\roaming\\python\\python311\\site-packages (from spacy<3.8.0,>=3.7.2->en-core-web-sm==3.7.1) (1.1.2)\n",
      "Requirement already satisfied: srsly<3.0.0,>=2.4.3 in c:\\users\\kshitiz.s.lv\\appdata\\roaming\\python\\python311\\site-packages (from spacy<3.8.0,>=3.7.2->en-core-web-sm==3.7.1) (2.4.8)\n",
      "Requirement already satisfied: catalogue<2.1.0,>=2.0.6 in c:\\users\\kshitiz.s.lv\\appdata\\roaming\\python\\python311\\site-packages (from spacy<3.8.0,>=3.7.2->en-core-web-sm==3.7.1) (2.0.10)\n",
      "Requirement already satisfied: weasel<0.4.0,>=0.1.0 in c:\\users\\kshitiz.s.lv\\appdata\\roaming\\python\\python311\\site-packages (from spacy<3.8.0,>=3.7.2->en-core-web-sm==3.7.1) (0.3.4)\n",
      "Requirement already satisfied: typer<0.10.0,>=0.3.0 in c:\\users\\kshitiz.s.lv\\appdata\\roaming\\python\\python311\\site-packages (from spacy<3.8.0,>=3.7.2->en-core-web-sm==3.7.1) (0.9.0)\n",
      "Requirement already satisfied: smart-open<7.0.0,>=5.2.1 in c:\\programdata\\anaconda3\\lib\\site-packages (from spacy<3.8.0,>=3.7.2->en-core-web-sm==3.7.1) (5.2.1)\n",
      "Requirement already satisfied: tqdm<5.0.0,>=4.38.0 in c:\\programdata\\anaconda3\\lib\\site-packages (from spacy<3.8.0,>=3.7.2->en-core-web-sm==3.7.1) (4.65.0)\n",
      "Requirement already satisfied: requests<3.0.0,>=2.13.0 in c:\\programdata\\anaconda3\\lib\\site-packages (from spacy<3.8.0,>=3.7.2->en-core-web-sm==3.7.1) (2.31.0)\n",
      "Requirement already satisfied: pydantic!=1.8,!=1.8.1,<3.0.0,>=1.7.4 in c:\\programdata\\anaconda3\\lib\\site-packages (from spacy<3.8.0,>=3.7.2->en-core-web-sm==3.7.1) (1.10.8)\n",
      "Requirement already satisfied: jinja2 in c:\\programdata\\anaconda3\\lib\\site-packages (from spacy<3.8.0,>=3.7.2->en-core-web-sm==3.7.1) (3.1.2)\n",
      "Requirement already satisfied: setuptools in c:\\programdata\\anaconda3\\lib\\site-packages (from spacy<3.8.0,>=3.7.2->en-core-web-sm==3.7.1) (68.0.0)\n",
      "Requirement already satisfied: packaging>=20.0 in c:\\programdata\\anaconda3\\lib\\site-packages (from spacy<3.8.0,>=3.7.2->en-core-web-sm==3.7.1) (23.1)\n",
      "Requirement already satisfied: langcodes<4.0.0,>=3.2.0 in c:\\users\\kshitiz.s.lv\\appdata\\roaming\\python\\python311\\site-packages (from spacy<3.8.0,>=3.7.2->en-core-web-sm==3.7.1) (3.3.0)\n",
      "Requirement already satisfied: numpy>=1.19.0 in c:\\programdata\\anaconda3\\lib\\site-packages (from spacy<3.8.0,>=3.7.2->en-core-web-sm==3.7.1) (1.24.3)\n",
      "Requirement already satisfied: typing-extensions>=4.2.0 in c:\\programdata\\anaconda3\\lib\\site-packages (from pydantic!=1.8,!=1.8.1,<3.0.0,>=1.7.4->spacy<3.8.0,>=3.7.2->en-core-web-sm==3.7.1) (4.7.1)\n",
      "Requirement already satisfied: charset-normalizer<4,>=2 in c:\\programdata\\anaconda3\\lib\\site-packages (from requests<3.0.0,>=2.13.0->spacy<3.8.0,>=3.7.2->en-core-web-sm==3.7.1) (2.0.4)\n",
      "Requirement already satisfied: idna<4,>=2.5 in c:\\programdata\\anaconda3\\lib\\site-packages (from requests<3.0.0,>=2.13.0->spacy<3.8.0,>=3.7.2->en-core-web-sm==3.7.1) (3.4)\n",
      "Requirement already satisfied: urllib3<3,>=1.21.1 in c:\\programdata\\anaconda3\\lib\\site-packages (from requests<3.0.0,>=2.13.0->spacy<3.8.0,>=3.7.2->en-core-web-sm==3.7.1) (1.26.16)\n",
      "Requirement already satisfied: certifi>=2017.4.17 in c:\\programdata\\anaconda3\\lib\\site-packages (from requests<3.0.0,>=2.13.0->spacy<3.8.0,>=3.7.2->en-core-web-sm==3.7.1) (2023.7.22)\n",
      "Requirement already satisfied: blis<0.8.0,>=0.7.8 in c:\\users\\kshitiz.s.lv\\appdata\\roaming\\python\\python311\\site-packages (from thinc<8.3.0,>=8.2.2->spacy<3.8.0,>=3.7.2->en-core-web-sm==3.7.1) (0.7.11)\n",
      "Requirement already satisfied: confection<1.0.0,>=0.0.1 in c:\\users\\kshitiz.s.lv\\appdata\\roaming\\python\\python311\\site-packages (from thinc<8.3.0,>=8.2.2->spacy<3.8.0,>=3.7.2->en-core-web-sm==3.7.1) (0.1.4)\n",
      "Requirement already satisfied: colorama in c:\\programdata\\anaconda3\\lib\\site-packages (from tqdm<5.0.0,>=4.38.0->spacy<3.8.0,>=3.7.2->en-core-web-sm==3.7.1) (0.4.6)\n",
      "Requirement already satisfied: click<9.0.0,>=7.1.1 in c:\\programdata\\anaconda3\\lib\\site-packages (from typer<0.10.0,>=0.3.0->spacy<3.8.0,>=3.7.2->en-core-web-sm==3.7.1) (8.0.4)\n",
      "Requirement already satisfied: cloudpathlib<0.17.0,>=0.7.0 in c:\\users\\kshitiz.s.lv\\appdata\\roaming\\python\\python311\\site-packages (from weasel<0.4.0,>=0.1.0->spacy<3.8.0,>=3.7.2->en-core-web-sm==3.7.1) (0.16.0)\n",
      "Requirement already satisfied: MarkupSafe>=2.0 in c:\\programdata\\anaconda3\\lib\\site-packages (from jinja2->spacy<3.8.0,>=3.7.2->en-core-web-sm==3.7.1) (2.1.1)\n",
      "\u001b[38;5;2m[+] Download and installation successful\u001b[0m\n",
      "You can now load the package via spacy.load('en_core_web_sm')\n"
     ]
    }
   ],
   "source": [
    "!python -m spacy download en_core_web_sm"
   ]
  },
  {
   "cell_type": "code",
   "execution_count": 3,
   "id": "fdf3267f",
   "metadata": {},
   "outputs": [
    {
     "name": "stdout",
     "output_type": "stream",
     "text": [
      "Defaulting to user installation because normal site-packages is not writeable\n",
      "Requirement already satisfied: nltk in c:\\programdata\\anaconda3\\lib\\site-packages (3.8.1)\n",
      "Requirement already satisfied: click in c:\\programdata\\anaconda3\\lib\\site-packages (from nltk) (8.0.4)\n",
      "Requirement already satisfied: joblib in c:\\programdata\\anaconda3\\lib\\site-packages (from nltk) (1.2.0)\n",
      "Requirement already satisfied: regex>=2021.8.3 in c:\\programdata\\anaconda3\\lib\\site-packages (from nltk) (2022.7.9)\n",
      "Requirement already satisfied: tqdm in c:\\programdata\\anaconda3\\lib\\site-packages (from nltk) (4.65.0)\n",
      "Requirement already satisfied: colorama in c:\\programdata\\anaconda3\\lib\\site-packages (from click->nltk) (0.4.6)\n",
      "Note: you may need to restart the kernel to use updated packages.\n"
     ]
    }
   ],
   "source": [
    "pip install nltk"
   ]
  },
  {
   "cell_type": "code",
   "execution_count": 4,
   "id": "be256825",
   "metadata": {},
   "outputs": [
    {
     "name": "stdout",
     "output_type": "stream",
     "text": [
      "Defaulting to user installation because normal site-packages is not writeable\n",
      "Requirement already satisfied: textblob in c:\\users\\kshitiz.s.lv\\appdata\\roaming\\python\\python311\\site-packages (0.18.0.post0)\n",
      "Requirement already satisfied: nltk>=3.8 in c:\\programdata\\anaconda3\\lib\\site-packages (from textblob) (3.8.1)\n",
      "Requirement already satisfied: click in c:\\programdata\\anaconda3\\lib\\site-packages (from nltk>=3.8->textblob) (8.0.4)\n",
      "Requirement already satisfied: joblib in c:\\programdata\\anaconda3\\lib\\site-packages (from nltk>=3.8->textblob) (1.2.0)\n",
      "Requirement already satisfied: regex>=2021.8.3 in c:\\programdata\\anaconda3\\lib\\site-packages (from nltk>=3.8->textblob) (2022.7.9)\n",
      "Requirement already satisfied: tqdm in c:\\programdata\\anaconda3\\lib\\site-packages (from nltk>=3.8->textblob) (4.65.0)\n",
      "Requirement already satisfied: colorama in c:\\programdata\\anaconda3\\lib\\site-packages (from click->nltk>=3.8->textblob) (0.4.6)\n",
      "Note: you may need to restart the kernel to use updated packages.\n"
     ]
    }
   ],
   "source": [
    "pip install textblob"
   ]
  },
  {
   "cell_type": "code",
   "execution_count": 5,
   "id": "b6d00b12",
   "metadata": {},
   "outputs": [
    {
     "name": "stdout",
     "output_type": "stream",
     "text": [
      "Finished.\n"
     ]
    },
    {
     "name": "stderr",
     "output_type": "stream",
     "text": [
      "[nltk_data] Downloading package brown to\n",
      "[nltk_data]     C:\\Users\\kshitiz.s.lv\\AppData\\Roaming\\nltk_data...\n",
      "[nltk_data]   Package brown is already up-to-date!\n",
      "[nltk_data] Downloading package punkt to\n",
      "[nltk_data]     C:\\Users\\kshitiz.s.lv\\AppData\\Roaming\\nltk_data...\n",
      "[nltk_data]   Package punkt is already up-to-date!\n",
      "[nltk_data] Downloading package wordnet to\n",
      "[nltk_data]     C:\\Users\\kshitiz.s.lv\\AppData\\Roaming\\nltk_data...\n",
      "[nltk_data]   Package wordnet is already up-to-date!\n",
      "[nltk_data] Downloading package averaged_perceptron_tagger to\n",
      "[nltk_data]     C:\\Users\\kshitiz.s.lv\\AppData\\Roaming\\nltk_data...\n",
      "[nltk_data]   Package averaged_perceptron_tagger is already up-to-\n",
      "[nltk_data]       date!\n",
      "[nltk_data] Downloading package conll2000 to\n",
      "[nltk_data]     C:\\Users\\kshitiz.s.lv\\AppData\\Roaming\\nltk_data...\n",
      "[nltk_data]   Package conll2000 is already up-to-date!\n",
      "[nltk_data] Downloading package movie_reviews to\n",
      "[nltk_data]     C:\\Users\\kshitiz.s.lv\\AppData\\Roaming\\nltk_data...\n",
      "[nltk_data]   Package movie_reviews is already up-to-date!\n"
     ]
    }
   ],
   "source": [
    "!python -m textblob.download_corpora"
   ]
  },
  {
   "cell_type": "code",
   "execution_count": 6,
   "id": "441ba45d",
   "metadata": {},
   "outputs": [
    {
     "name": "stdout",
     "output_type": "stream",
     "text": [
      "Defaulting to user installation because normal site-packages is not writeable\n",
      "Requirement already satisfied: emoji in c:\\users\\kshitiz.s.lv\\appdata\\roaming\\python\\python311\\site-packages (2.10.1)\n",
      "Note: you may need to restart the kernel to use updated packages.\n"
     ]
    }
   ],
   "source": [
    "pip install emoji"
   ]
  },
  {
   "cell_type": "code",
   "execution_count": 7,
   "id": "ff8eb039",
   "metadata": {},
   "outputs": [
    {
     "name": "stdout",
     "output_type": "stream",
     "text": [
      "Defaulting to user installation because normal site-packages is not writeable\n",
      "Requirement already satisfied: pyspellchecker in c:\\users\\kshitiz.s.lv\\appdata\\roaming\\python\\python311\\site-packages (0.8.1)\n",
      "Note: you may need to restart the kernel to use updated packages.\n"
     ]
    }
   ],
   "source": [
    "pip install pyspellchecker"
   ]
  },
  {
   "cell_type": "markdown",
   "id": "92441093",
   "metadata": {},
   "source": [
    "### Importing Libraries"
   ]
  },
  {
   "cell_type": "code",
   "execution_count": 169,
   "id": "a31c2dea",
   "metadata": {},
   "outputs": [],
   "source": [
    "import pandas as pd\n",
    "import numpy as np\n",
    "import seaborn as sns\n",
    "import nltk\n",
    "from nltk.corpus import stopwords\n",
    "from nltk.tokenize import word_tokenize\n",
    "import string\n",
    "import re\n",
    "import spacy\n",
    "import emoji\n",
    "from nltk.stem import WordNetLemmatizer, PorterStemmer\n",
    "import html\n",
    "from textblob import TextBlob\n",
    "from sklearn.metrics import accuracy_score\n",
    "from sklearn.metrics import confusion_matrix\n",
    "import matplotlib.pyplot as plt"
   ]
  },
  {
   "cell_type": "markdown",
   "id": "a93733b4",
   "metadata": {},
   "source": [
    "### Reading the Dataset"
   ]
  },
  {
   "cell_type": "markdown",
   "id": "3e857ac3",
   "metadata": {},
   "source": [
    "#### Train Dataset"
   ]
  },
  {
   "cell_type": "code",
   "execution_count": 146,
   "id": "62400914",
   "metadata": {},
   "outputs": [
    {
     "data": {
      "text/html": [
       "<div>\n",
       "<style scoped>\n",
       "    .dataframe tbody tr th:only-of-type {\n",
       "        vertical-align: middle;\n",
       "    }\n",
       "\n",
       "    .dataframe tbody tr th {\n",
       "        vertical-align: top;\n",
       "    }\n",
       "\n",
       "    .dataframe thead th {\n",
       "        text-align: right;\n",
       "    }\n",
       "</style>\n",
       "<table border=\"1\" class=\"dataframe\">\n",
       "  <thead>\n",
       "    <tr style=\"text-align: right;\">\n",
       "      <th></th>\n",
       "      <th>Name</th>\n",
       "      <th>On a Scale of 1-5 Rate the Place</th>\n",
       "      <th>A Detailed Review of the Place</th>\n",
       "    </tr>\n",
       "  </thead>\n",
       "  <tbody>\n",
       "    <tr>\n",
       "      <th>0</th>\n",
       "      <td>Prakash</td>\n",
       "      <td>4.0</td>\n",
       "      <td>Awesome experience with a friend who was in a ...</td>\n",
       "    </tr>\n",
       "    <tr>\n",
       "      <th>1</th>\n",
       "      <td>Prashanth</td>\n",
       "      <td>3.0</td>\n",
       "      <td>It was a good visit to the Zoo. My son loved a...</td>\n",
       "    </tr>\n",
       "    <tr>\n",
       "      <th>2</th>\n",
       "      <td>Ashwin J</td>\n",
       "      <td>3.0</td>\n",
       "      <td>Have been wanting to visit this place since th...</td>\n",
       "    </tr>\n",
       "    <tr>\n",
       "      <th>3</th>\n",
       "      <td>Amit Khare</td>\n",
       "      <td>2.0</td>\n",
       "      <td>It was too overcrowded even to have a look pro...</td>\n",
       "    </tr>\n",
       "    <tr>\n",
       "      <th>4</th>\n",
       "      <td>ChennaiShaji</td>\n",
       "      <td>4.0</td>\n",
       "      <td>A land mark which you cannot miss while in the...</td>\n",
       "    </tr>\n",
       "  </tbody>\n",
       "</table>\n",
       "</div>"
      ],
      "text/plain": [
       "           Name  On a Scale of 1-5 Rate the Place  \\\n",
       "0       Prakash                               4.0   \n",
       "1     Prashanth                               3.0   \n",
       "2      Ashwin J                               3.0   \n",
       "3    Amit Khare                               2.0   \n",
       "4  ChennaiShaji                               4.0   \n",
       "\n",
       "                      A Detailed Review of the Place  \n",
       "0  Awesome experience with a friend who was in a ...  \n",
       "1  It was a good visit to the Zoo. My son loved a...  \n",
       "2  Have been wanting to visit this place since th...  \n",
       "3  It was too overcrowded even to have a look pro...  \n",
       "4  A land mark which you cannot miss while in the...  "
      ]
     },
     "execution_count": 146,
     "metadata": {},
     "output_type": "execute_result"
    }
   ],
   "source": [
    "train_data = pd.read_csv('C:/Users/kshitiz.s.lv/Downloads/Train_Reviews.csv')\n",
    "train_data.head()"
   ]
  },
  {
   "cell_type": "code",
   "execution_count": 147,
   "id": "06123d16",
   "metadata": {},
   "outputs": [
    {
     "name": "stdout",
     "output_type": "stream",
     "text": [
      "<class 'pandas.core.frame.DataFrame'>\n",
      "RangeIndex: 706 entries, 0 to 705\n",
      "Data columns (total 3 columns):\n",
      " #   Column                            Non-Null Count  Dtype  \n",
      "---  ------                            --------------  -----  \n",
      " 0   Name                              706 non-null    object \n",
      " 1   On a Scale of 1-5 Rate the Place  676 non-null    float64\n",
      " 2   A Detailed Review of the Place    705 non-null    object \n",
      "dtypes: float64(1), object(2)\n",
      "memory usage: 16.7+ KB\n"
     ]
    }
   ],
   "source": [
    "train_data.info()"
   ]
  },
  {
   "cell_type": "markdown",
   "id": "695038d7",
   "metadata": {},
   "source": [
    "#### Test Dataset"
   ]
  },
  {
   "cell_type": "code",
   "execution_count": 148,
   "id": "4e5b7f81",
   "metadata": {},
   "outputs": [
    {
     "data": {
      "text/html": [
       "<div>\n",
       "<style scoped>\n",
       "    .dataframe tbody tr th:only-of-type {\n",
       "        vertical-align: middle;\n",
       "    }\n",
       "\n",
       "    .dataframe tbody tr th {\n",
       "        vertical-align: top;\n",
       "    }\n",
       "\n",
       "    .dataframe thead th {\n",
       "        text-align: right;\n",
       "    }\n",
       "</style>\n",
       "<table border=\"1\" class=\"dataframe\">\n",
       "  <thead>\n",
       "    <tr style=\"text-align: right;\">\n",
       "      <th></th>\n",
       "      <th>Name</th>\n",
       "      <th>A Detailed Review of the Place</th>\n",
       "    </tr>\n",
       "  </thead>\n",
       "  <tbody>\n",
       "    <tr>\n",
       "      <th>0</th>\n",
       "      <td>OctOriental</td>\n",
       "      <td>Great hub of hanging out, boating, eating and ...</td>\n",
       "    </tr>\n",
       "    <tr>\n",
       "      <th>1</th>\n",
       "      <td>Konganapally Laasya</td>\n",
       "      <td>It’s good and it was so long ago that I comple...</td>\n",
       "    </tr>\n",
       "    <tr>\n",
       "      <th>2</th>\n",
       "      <td>ShubH GhosH</td>\n",
       "      <td>Must be an imposing structure but really cant ...</td>\n",
       "    </tr>\n",
       "    <tr>\n",
       "      <th>3</th>\n",
       "      <td>Deepyayan Ghosh</td>\n",
       "      <td>Hussain Sagar Lake adds a good view but from a...</td>\n",
       "    </tr>\n",
       "    <tr>\n",
       "      <th>4</th>\n",
       "      <td>Shalini N</td>\n",
       "      <td>The temple is situated on a hilltop.  The view...</td>\n",
       "    </tr>\n",
       "  </tbody>\n",
       "</table>\n",
       "</div>"
      ],
      "text/plain": [
       "                  Name                     A Detailed Review of the Place\n",
       "0          OctOriental  Great hub of hanging out, boating, eating and ...\n",
       "1  Konganapally Laasya  It’s good and it was so long ago that I comple...\n",
       "2          ShubH GhosH  Must be an imposing structure but really cant ...\n",
       "3      Deepyayan Ghosh  Hussain Sagar Lake adds a good view but from a...\n",
       "4            Shalini N  The temple is situated on a hilltop.  The view..."
      ]
     },
     "execution_count": 148,
     "metadata": {},
     "output_type": "execute_result"
    }
   ],
   "source": [
    "test_data = pd.read_csv('C:/Users/kshitiz.s.lv/Downloads/Test_Reviews.csv')\n",
    "test_data.head()"
   ]
  },
  {
   "cell_type": "code",
   "execution_count": 149,
   "id": "5bda66c1",
   "metadata": {
    "scrolled": true
   },
   "outputs": [
    {
     "name": "stdout",
     "output_type": "stream",
     "text": [
      "<class 'pandas.core.frame.DataFrame'>\n",
      "RangeIndex: 348 entries, 0 to 347\n",
      "Data columns (total 2 columns):\n",
      " #   Column                          Non-Null Count  Dtype \n",
      "---  ------                          --------------  ----- \n",
      " 0   Name                            348 non-null    object\n",
      " 1   A Detailed Review of the Place  348 non-null    object\n",
      "dtypes: object(2)\n",
      "memory usage: 5.6+ KB\n"
     ]
    }
   ],
   "source": [
    "test_data.info()"
   ]
  },
  {
   "cell_type": "markdown",
   "id": "9caa21bc",
   "metadata": {},
   "source": [
    "## Data Preprocessing"
   ]
  },
  {
   "cell_type": "markdown",
   "id": "2e2eb279",
   "metadata": {},
   "source": [
    "#### Train Data"
   ]
  },
  {
   "cell_type": "code",
   "execution_count": 150,
   "id": "715b27c8",
   "metadata": {},
   "outputs": [],
   "source": [
    "train_data = train_data.dropna()"
   ]
  },
  {
   "cell_type": "code",
   "execution_count": 151,
   "id": "a974cca6",
   "metadata": {},
   "outputs": [
    {
     "data": {
      "text/html": [
       "<div>\n",
       "<style scoped>\n",
       "    .dataframe tbody tr th:only-of-type {\n",
       "        vertical-align: middle;\n",
       "    }\n",
       "\n",
       "    .dataframe tbody tr th {\n",
       "        vertical-align: top;\n",
       "    }\n",
       "\n",
       "    .dataframe thead th {\n",
       "        text-align: right;\n",
       "    }\n",
       "</style>\n",
       "<table border=\"1\" class=\"dataframe\">\n",
       "  <thead>\n",
       "    <tr style=\"text-align: right;\">\n",
       "      <th></th>\n",
       "      <th>Name</th>\n",
       "      <th>On a Scale of 1-5 Rate the Place</th>\n",
       "      <th>A Detailed Review of the Place</th>\n",
       "      <th>Sentiment based on Ratings Scale 1-5</th>\n",
       "    </tr>\n",
       "  </thead>\n",
       "  <tbody>\n",
       "    <tr>\n",
       "      <th>0</th>\n",
       "      <td>Prakash</td>\n",
       "      <td>4.0</td>\n",
       "      <td>Awesome experience with a friend who was in a ...</td>\n",
       "      <td>Positive</td>\n",
       "    </tr>\n",
       "    <tr>\n",
       "      <th>1</th>\n",
       "      <td>Prashanth</td>\n",
       "      <td>3.0</td>\n",
       "      <td>It was a good visit to the Zoo. My son loved a...</td>\n",
       "      <td>Neutral</td>\n",
       "    </tr>\n",
       "    <tr>\n",
       "      <th>2</th>\n",
       "      <td>Ashwin J</td>\n",
       "      <td>3.0</td>\n",
       "      <td>Have been wanting to visit this place since th...</td>\n",
       "      <td>Neutral</td>\n",
       "    </tr>\n",
       "    <tr>\n",
       "      <th>3</th>\n",
       "      <td>Amit Khare</td>\n",
       "      <td>2.0</td>\n",
       "      <td>It was too overcrowded even to have a look pro...</td>\n",
       "      <td>Negative</td>\n",
       "    </tr>\n",
       "    <tr>\n",
       "      <th>4</th>\n",
       "      <td>ChennaiShaji</td>\n",
       "      <td>4.0</td>\n",
       "      <td>A land mark which you cannot miss while in the...</td>\n",
       "      <td>Positive</td>\n",
       "    </tr>\n",
       "  </tbody>\n",
       "</table>\n",
       "</div>"
      ],
      "text/plain": [
       "           Name  On a Scale of 1-5 Rate the Place  \\\n",
       "0       Prakash                               4.0   \n",
       "1     Prashanth                               3.0   \n",
       "2      Ashwin J                               3.0   \n",
       "3    Amit Khare                               2.0   \n",
       "4  ChennaiShaji                               4.0   \n",
       "\n",
       "                      A Detailed Review of the Place  \\\n",
       "0  Awesome experience with a friend who was in a ...   \n",
       "1  It was a good visit to the Zoo. My son loved a...   \n",
       "2  Have been wanting to visit this place since th...   \n",
       "3  It was too overcrowded even to have a look pro...   \n",
       "4  A land mark which you cannot miss while in the...   \n",
       "\n",
       "  Sentiment based on Ratings Scale 1-5  \n",
       "0                             Positive  \n",
       "1                              Neutral  \n",
       "2                              Neutral  \n",
       "3                             Negative  \n",
       "4                             Positive  "
      ]
     },
     "execution_count": 151,
     "metadata": {},
     "output_type": "execute_result"
    }
   ],
   "source": [
    "def get_sentiment(rating):\n",
    "    if rating >= 4:\n",
    "        return 'Positive'\n",
    "    elif rating == 3:\n",
    "        return 'Neutral'\n",
    "    else:\n",
    "        return 'Negative'\n",
    "    \n",
    "train_data['Sentiment based on Ratings Scale 1-5'] = train_data['On a Scale of 1-5 Rate the Place'].apply(get_sentiment)\n",
    "train_data.head()"
   ]
  },
  {
   "cell_type": "code",
   "execution_count": 152,
   "id": "10f3eb07",
   "metadata": {},
   "outputs": [
    {
     "data": {
      "text/html": [
       "<div>\n",
       "<style scoped>\n",
       "    .dataframe tbody tr th:only-of-type {\n",
       "        vertical-align: middle;\n",
       "    }\n",
       "\n",
       "    .dataframe tbody tr th {\n",
       "        vertical-align: top;\n",
       "    }\n",
       "\n",
       "    .dataframe thead th {\n",
       "        text-align: right;\n",
       "    }\n",
       "</style>\n",
       "<table border=\"1\" class=\"dataframe\">\n",
       "  <thead>\n",
       "    <tr style=\"text-align: right;\">\n",
       "      <th></th>\n",
       "      <th>On a Scale of 1-5 Rate the Place</th>\n",
       "      <th>A Detailed Review of the Place</th>\n",
       "      <th>Sentiment based on Ratings Scale 1-5</th>\n",
       "    </tr>\n",
       "  </thead>\n",
       "  <tbody>\n",
       "    <tr>\n",
       "      <th>0</th>\n",
       "      <td>4.0</td>\n",
       "      <td>Awesome experience with a friend who was in a ...</td>\n",
       "      <td>Positive</td>\n",
       "    </tr>\n",
       "    <tr>\n",
       "      <th>1</th>\n",
       "      <td>3.0</td>\n",
       "      <td>It was a good visit to the Zoo. My son loved a...</td>\n",
       "      <td>Neutral</td>\n",
       "    </tr>\n",
       "    <tr>\n",
       "      <th>2</th>\n",
       "      <td>3.0</td>\n",
       "      <td>Have been wanting to visit this place since th...</td>\n",
       "      <td>Neutral</td>\n",
       "    </tr>\n",
       "    <tr>\n",
       "      <th>3</th>\n",
       "      <td>2.0</td>\n",
       "      <td>It was too overcrowded even to have a look pro...</td>\n",
       "      <td>Negative</td>\n",
       "    </tr>\n",
       "    <tr>\n",
       "      <th>4</th>\n",
       "      <td>4.0</td>\n",
       "      <td>A land mark which you cannot miss while in the...</td>\n",
       "      <td>Positive</td>\n",
       "    </tr>\n",
       "    <tr>\n",
       "      <th>...</th>\n",
       "      <td>...</td>\n",
       "      <td>...</td>\n",
       "      <td>...</td>\n",
       "    </tr>\n",
       "    <tr>\n",
       "      <th>700</th>\n",
       "      <td>4.0</td>\n",
       "      <td>The Nehru Zoological in Hyderabad is a very we...</td>\n",
       "      <td>Positive</td>\n",
       "    </tr>\n",
       "    <tr>\n",
       "      <th>701</th>\n",
       "      <td>1.0</td>\n",
       "      <td>A very rarely visited and populated Sight Seei...</td>\n",
       "      <td>Negative</td>\n",
       "    </tr>\n",
       "    <tr>\n",
       "      <th>702</th>\n",
       "      <td>2.0</td>\n",
       "      <td>Overall no maintenance of this place. Plastic ...</td>\n",
       "      <td>Negative</td>\n",
       "    </tr>\n",
       "    <tr>\n",
       "      <th>704</th>\n",
       "      <td>4.0</td>\n",
       "      <td>This place will give you good pleasant nature ...</td>\n",
       "      <td>Positive</td>\n",
       "    </tr>\n",
       "    <tr>\n",
       "      <th>705</th>\n",
       "      <td>5.0</td>\n",
       "      <td>If you are visiting Hyderabad this place you m...</td>\n",
       "      <td>Positive</td>\n",
       "    </tr>\n",
       "  </tbody>\n",
       "</table>\n",
       "<p>675 rows × 3 columns</p>\n",
       "</div>"
      ],
      "text/plain": [
       "     On a Scale of 1-5 Rate the Place  \\\n",
       "0                                 4.0   \n",
       "1                                 3.0   \n",
       "2                                 3.0   \n",
       "3                                 2.0   \n",
       "4                                 4.0   \n",
       "..                                ...   \n",
       "700                               4.0   \n",
       "701                               1.0   \n",
       "702                               2.0   \n",
       "704                               4.0   \n",
       "705                               5.0   \n",
       "\n",
       "                        A Detailed Review of the Place  \\\n",
       "0    Awesome experience with a friend who was in a ...   \n",
       "1    It was a good visit to the Zoo. My son loved a...   \n",
       "2    Have been wanting to visit this place since th...   \n",
       "3    It was too overcrowded even to have a look pro...   \n",
       "4    A land mark which you cannot miss while in the...   \n",
       "..                                                 ...   \n",
       "700  The Nehru Zoological in Hyderabad is a very we...   \n",
       "701  A very rarely visited and populated Sight Seei...   \n",
       "702  Overall no maintenance of this place. Plastic ...   \n",
       "704  This place will give you good pleasant nature ...   \n",
       "705  If you are visiting Hyderabad this place you m...   \n",
       "\n",
       "    Sentiment based on Ratings Scale 1-5  \n",
       "0                               Positive  \n",
       "1                                Neutral  \n",
       "2                                Neutral  \n",
       "3                               Negative  \n",
       "4                               Positive  \n",
       "..                                   ...  \n",
       "700                             Positive  \n",
       "701                             Negative  \n",
       "702                             Negative  \n",
       "704                             Positive  \n",
       "705                             Positive  \n",
       "\n",
       "[675 rows x 3 columns]"
      ]
     },
     "execution_count": 152,
     "metadata": {},
     "output_type": "execute_result"
    }
   ],
   "source": [
    "train_data.drop('Name', axis=1, inplace=True)\n",
    "train_data"
   ]
  },
  {
   "cell_type": "markdown",
   "id": "53a29f6d",
   "metadata": {},
   "source": [
    "#### Test Data"
   ]
  },
  {
   "cell_type": "code",
   "execution_count": 153,
   "id": "2a429ea7",
   "metadata": {},
   "outputs": [],
   "source": [
    "test_data = test_data.dropna()"
   ]
  },
  {
   "cell_type": "code",
   "execution_count": 154,
   "id": "a6d6fad2",
   "metadata": {},
   "outputs": [
    {
     "data": {
      "text/html": [
       "<div>\n",
       "<style scoped>\n",
       "    .dataframe tbody tr th:only-of-type {\n",
       "        vertical-align: middle;\n",
       "    }\n",
       "\n",
       "    .dataframe tbody tr th {\n",
       "        vertical-align: top;\n",
       "    }\n",
       "\n",
       "    .dataframe thead th {\n",
       "        text-align: right;\n",
       "    }\n",
       "</style>\n",
       "<table border=\"1\" class=\"dataframe\">\n",
       "  <thead>\n",
       "    <tr style=\"text-align: right;\">\n",
       "      <th></th>\n",
       "      <th>A Detailed Review of the Place</th>\n",
       "    </tr>\n",
       "  </thead>\n",
       "  <tbody>\n",
       "    <tr>\n",
       "      <th>0</th>\n",
       "      <td>Great hub of hanging out, boating, eating and ...</td>\n",
       "    </tr>\n",
       "    <tr>\n",
       "      <th>1</th>\n",
       "      <td>It’s good and it was so long ago that I comple...</td>\n",
       "    </tr>\n",
       "    <tr>\n",
       "      <th>2</th>\n",
       "      <td>Must be an imposing structure but really cant ...</td>\n",
       "    </tr>\n",
       "    <tr>\n",
       "      <th>3</th>\n",
       "      <td>Hussain Sagar Lake adds a good view but from a...</td>\n",
       "    </tr>\n",
       "    <tr>\n",
       "      <th>4</th>\n",
       "      <td>The temple is situated on a hilltop.  The view...</td>\n",
       "    </tr>\n",
       "    <tr>\n",
       "      <th>...</th>\n",
       "      <td>...</td>\n",
       "    </tr>\n",
       "    <tr>\n",
       "      <th>343</th>\n",
       "      <td>The lake is beautiful when viewed from a dista...</td>\n",
       "    </tr>\n",
       "    <tr>\n",
       "      <th>344</th>\n",
       "      <td>The Buddha statue can be seen from near throug...</td>\n",
       "    </tr>\n",
       "    <tr>\n",
       "      <th>345</th>\n",
       "      <td>Wonderla is a very enthusiastic place to get t...</td>\n",
       "    </tr>\n",
       "    <tr>\n",
       "      <th>346</th>\n",
       "      <td>The towering statue of Gautam Buddha in the mi...</td>\n",
       "    </tr>\n",
       "    <tr>\n",
       "      <th>347</th>\n",
       "      <td>A very skill full experience. There are some g...</td>\n",
       "    </tr>\n",
       "  </tbody>\n",
       "</table>\n",
       "<p>348 rows × 1 columns</p>\n",
       "</div>"
      ],
      "text/plain": [
       "                        A Detailed Review of the Place\n",
       "0    Great hub of hanging out, boating, eating and ...\n",
       "1    It’s good and it was so long ago that I comple...\n",
       "2    Must be an imposing structure but really cant ...\n",
       "3    Hussain Sagar Lake adds a good view but from a...\n",
       "4    The temple is situated on a hilltop.  The view...\n",
       "..                                                 ...\n",
       "343  The lake is beautiful when viewed from a dista...\n",
       "344  The Buddha statue can be seen from near throug...\n",
       "345  Wonderla is a very enthusiastic place to get t...\n",
       "346  The towering statue of Gautam Buddha in the mi...\n",
       "347  A very skill full experience. There are some g...\n",
       "\n",
       "[348 rows x 1 columns]"
      ]
     },
     "execution_count": 154,
     "metadata": {},
     "output_type": "execute_result"
    }
   ],
   "source": [
    "test_data.drop('Name', axis=1, inplace=True)\n",
    "test_data"
   ]
  },
  {
   "cell_type": "markdown",
   "id": "895d6de7",
   "metadata": {},
   "source": [
    "#### Text Cleaning "
   ]
  },
  {
   "cell_type": "code",
   "execution_count": 155,
   "id": "f41e1d98",
   "metadata": {},
   "outputs": [],
   "source": [
    "contractions = {\"ain't\": \"am not\", \"aren't\": \"are not\", \"can't\": \"cannot\", \"can't've\": \"cannot have\",\n",
    "                \"'cause\": \"because\", \"could've\": \"could have\", \"couldn't\": \"could not\", \"couldn't've\": \"could not have\",\n",
    "                \"didn't\": \"did not\", \"doesn't\": \"does not\", \"don't\": \"do not\", \"hadn't\": \"had not\",\n",
    "                \"hadn't've\": \"had not have\", \"hasn't\": \"has not\", \"haven't\": \"have not\", \"he'd\": \"he would\",\n",
    "                \"he'd've\": \"he would have\", \"he'll\": \"he will\", \"he's\": \"he is\", \"how'd\": \"how did\",\"Itâ€™s\":\"It is\",\n",
    "                \"how'll\": \"how will\", \"how's\": \"how is\", \"I'd\": \"I would\", \"I'll\": \"I will\", \"I'm\": \"I am\",\n",
    "                \"I've\": \"I have\", \"isn't\": \"is not\", \"it'd\": \"it would\", \"it'll\": \"it will\", \"it's\": \"it is\",  \"It's\": \"It is\",\n",
    "                \"let's\": \"let us\", \"ma'am\": \"madam\", \"mayn't\": \"may not\", \"might've\": \"might have\",\n",
    "                \"mightn't\": \"might not\", \"must've\": \"must have\", \"mustn't\": \"must not\", \"needn't\": \"need not\",\n",
    "                \"oughtn't\": \"ought not\", \"shan't\": \"shall not\", \"sha'n't\": \"shall not\", \"she'd\": \"she would\",\n",
    "                \"she'll\": \"she will\", \"she's\": \"she is\", \"should've\": \"should have\", \"shouldn't\": \"should not\",\n",
    "                \"that'd\": \"that would\", \"that's\": \"that is\", \"there'd\": \"there would\", \"there's\": \"there is\",\n",
    "                \"they'd\": \"they would\", \"they'll\": \"they will\", \"they're\": \"they are\", \"they've\": \"they have\",\n",
    "                \"wasn't\": \"was not\", \"we'd\": \"we would\", \"we'll\": \"we will\", \"we're\": \"we are\", \"we've\": \"we have\",\n",
    "                \"weren't\": \"were not\", \"what'll\": \"what will\", \"what're\": \"what are\", \"what's\": \"what is\",\n",
    "                \"what've\": \"what have\", \"when's\": \"when is\", \"when've\": \"when have\", \"where'd\": \"where did\",\n",
    "                \"where's\": \"where is\", \"where've\": \"where have\", \"who'll\": \"who will\", \"who's\": \"who is\",\n",
    "                \"who've\": \"who have\", \"why's\": \"why is\", \"why've\": \"why have\", \"will've\": \"will have\",\n",
    "                \"won't\": \"will not\", \"would've\": \"would have\", \"wouldn't\": \"would not\", \"y'all\": \"you all\",\n",
    "                \"you'd\": \"you would\", \"you'll\": \"you will\", \"you're\": \"you are\", \"you've\": \"you have\"}\n",
    "\n",
    "def clean_and_format_sentence(text):\n",
    "    if pd.isna(text):\n",
    "        return ''\n",
    "    \n",
    "    text = text.lower()\n",
    "    \n",
    "    for contraction, replacement in contractions.items():\n",
    "        text = re.sub(contraction, replacement, text)\n",
    "\n",
    "    text = re.sub('(@[A-Za-z0-9]+)|([^0-9A-Za-z \\t])|(\\w+:\\/\\/\\S+)|(\\S*\\d\\S*)', ' ', str(text))\n",
    "\n",
    "    text = emoji.demojize(text)\n",
    "    text = re.sub(r':[a-z_]+:', '', text)\n",
    "\n",
    "    sentences = re.split(r'(?<!\\w\\.\\w.)(?<![A-Z][a-z]\\.)(?<=\\.|\\?)\\s', text)\n",
    "    sentences = [sentence.capitalize() for sentence in sentences if sentence]\n",
    "\n",
    "    cleaned_text = ' '.join(sentences) + '.' if sentences else ''\n",
    "\n",
    "    return cleaned_text"
   ]
  },
  {
   "cell_type": "markdown",
   "id": "1744a66d",
   "metadata": {},
   "source": [
    "##### Text Cleaning - Train Dataset"
   ]
  },
  {
   "cell_type": "code",
   "execution_count": 156,
   "id": "2924b08a",
   "metadata": {},
   "outputs": [
    {
     "data": {
      "text/html": [
       "<div>\n",
       "<style scoped>\n",
       "    .dataframe tbody tr th:only-of-type {\n",
       "        vertical-align: middle;\n",
       "    }\n",
       "\n",
       "    .dataframe tbody tr th {\n",
       "        vertical-align: top;\n",
       "    }\n",
       "\n",
       "    .dataframe thead th {\n",
       "        text-align: right;\n",
       "    }\n",
       "</style>\n",
       "<table border=\"1\" class=\"dataframe\">\n",
       "  <thead>\n",
       "    <tr style=\"text-align: right;\">\n",
       "      <th></th>\n",
       "      <th>On a Scale of 1-5 Rate the Place</th>\n",
       "      <th>A Detailed Review of the Place</th>\n",
       "      <th>Sentiment based on Ratings Scale 1-5</th>\n",
       "    </tr>\n",
       "  </thead>\n",
       "  <tbody>\n",
       "    <tr>\n",
       "      <th>0</th>\n",
       "      <td>4.0</td>\n",
       "      <td>Awesome experience with a friend who was in a ...</td>\n",
       "      <td>Positive</td>\n",
       "    </tr>\n",
       "    <tr>\n",
       "      <th>1</th>\n",
       "      <td>3.0</td>\n",
       "      <td>It was a good visit to the zoo  my son loved a...</td>\n",
       "      <td>Neutral</td>\n",
       "    </tr>\n",
       "    <tr>\n",
       "      <th>2</th>\n",
       "      <td>3.0</td>\n",
       "      <td>Have been wanting to visit this place since th...</td>\n",
       "      <td>Neutral</td>\n",
       "    </tr>\n",
       "    <tr>\n",
       "      <th>3</th>\n",
       "      <td>2.0</td>\n",
       "      <td>It was too overcrowded even to have a look pro...</td>\n",
       "      <td>Negative</td>\n",
       "    </tr>\n",
       "    <tr>\n",
       "      <th>4</th>\n",
       "      <td>4.0</td>\n",
       "      <td>A land mark which you cannot miss while in the...</td>\n",
       "      <td>Positive</td>\n",
       "    </tr>\n",
       "  </tbody>\n",
       "</table>\n",
       "</div>"
      ],
      "text/plain": [
       "   On a Scale of 1-5 Rate the Place  \\\n",
       "0                               4.0   \n",
       "1                               3.0   \n",
       "2                               3.0   \n",
       "3                               2.0   \n",
       "4                               4.0   \n",
       "\n",
       "                      A Detailed Review of the Place  \\\n",
       "0  Awesome experience with a friend who was in a ...   \n",
       "1  It was a good visit to the zoo  my son loved a...   \n",
       "2  Have been wanting to visit this place since th...   \n",
       "3  It was too overcrowded even to have a look pro...   \n",
       "4  A land mark which you cannot miss while in the...   \n",
       "\n",
       "  Sentiment based on Ratings Scale 1-5  \n",
       "0                             Positive  \n",
       "1                              Neutral  \n",
       "2                              Neutral  \n",
       "3                             Negative  \n",
       "4                             Positive  "
      ]
     },
     "execution_count": 156,
     "metadata": {},
     "output_type": "execute_result"
    }
   ],
   "source": [
    "train_data['A Detailed Review of the Place'] = train_data['A Detailed Review of the Place'].apply(clean_and_format_sentence)\n",
    "train_data.head()"
   ]
  },
  {
   "cell_type": "code",
   "execution_count": 157,
   "id": "1af01e45",
   "metadata": {},
   "outputs": [
    {
     "name": "stdout",
     "output_type": "stream",
     "text": [
      "<class 'pandas.core.frame.DataFrame'>\n",
      "Index: 675 entries, 0 to 705\n",
      "Data columns (total 3 columns):\n",
      " #   Column                                Non-Null Count  Dtype  \n",
      "---  ------                                --------------  -----  \n",
      " 0   On a Scale of 1-5 Rate the Place      675 non-null    float64\n",
      " 1   A Detailed Review of the Place        675 non-null    object \n",
      " 2   Sentiment based on Ratings Scale 1-5  675 non-null    object \n",
      "dtypes: float64(1), object(2)\n",
      "memory usage: 21.1+ KB\n"
     ]
    }
   ],
   "source": [
    "train_data.info()"
   ]
  },
  {
   "cell_type": "code",
   "execution_count": 158,
   "id": "b003f95c",
   "metadata": {},
   "outputs": [
    {
     "data": {
      "text/plain": [
       "Sentiment based on Ratings Scale 1-5\n",
       "Positive    550\n",
       "Neutral      76\n",
       "Negative     49\n",
       "Name: count, dtype: int64"
      ]
     },
     "execution_count": 158,
     "metadata": {},
     "output_type": "execute_result"
    }
   ],
   "source": [
    "train_data['Sentiment based on Ratings Scale 1-5'].value_counts()"
   ]
  },
  {
   "cell_type": "markdown",
   "id": "53c3fbdf",
   "metadata": {},
   "source": [
    "##### Text Cleaning - Test Dataset"
   ]
  },
  {
   "cell_type": "code",
   "execution_count": 159,
   "id": "cafa2b71",
   "metadata": {},
   "outputs": [
    {
     "data": {
      "text/html": [
       "<div>\n",
       "<style scoped>\n",
       "    .dataframe tbody tr th:only-of-type {\n",
       "        vertical-align: middle;\n",
       "    }\n",
       "\n",
       "    .dataframe tbody tr th {\n",
       "        vertical-align: top;\n",
       "    }\n",
       "\n",
       "    .dataframe thead th {\n",
       "        text-align: right;\n",
       "    }\n",
       "</style>\n",
       "<table border=\"1\" class=\"dataframe\">\n",
       "  <thead>\n",
       "    <tr style=\"text-align: right;\">\n",
       "      <th></th>\n",
       "      <th>A Detailed Review of the Place</th>\n",
       "    </tr>\n",
       "  </thead>\n",
       "  <tbody>\n",
       "    <tr>\n",
       "      <th>0</th>\n",
       "      <td>Great hub of hanging out  boating  eating and ...</td>\n",
       "    </tr>\n",
       "    <tr>\n",
       "      <th>1</th>\n",
       "      <td>It s good and it was so long ago that i comple...</td>\n",
       "    </tr>\n",
       "    <tr>\n",
       "      <th>2</th>\n",
       "      <td>Must be an imposing structure but really cant ...</td>\n",
       "    </tr>\n",
       "    <tr>\n",
       "      <th>3</th>\n",
       "      <td>Hussain sagar lake adds a good view but from a...</td>\n",
       "    </tr>\n",
       "    <tr>\n",
       "      <th>4</th>\n",
       "      <td>The temple is situated on a hilltop   the view...</td>\n",
       "    </tr>\n",
       "  </tbody>\n",
       "</table>\n",
       "</div>"
      ],
      "text/plain": [
       "                      A Detailed Review of the Place\n",
       "0  Great hub of hanging out  boating  eating and ...\n",
       "1  It s good and it was so long ago that i comple...\n",
       "2  Must be an imposing structure but really cant ...\n",
       "3  Hussain sagar lake adds a good view but from a...\n",
       "4  The temple is situated on a hilltop   the view..."
      ]
     },
     "execution_count": 159,
     "metadata": {},
     "output_type": "execute_result"
    }
   ],
   "source": [
    "test_data['A Detailed Review of the Place'] = test_data['A Detailed Review of the Place'].apply(clean_and_format_sentence)\n",
    "test_data.head()"
   ]
  },
  {
   "cell_type": "code",
   "execution_count": 171,
   "id": "09095c20",
   "metadata": {},
   "outputs": [
    {
     "name": "stdout",
     "output_type": "stream",
     "text": [
      "<class 'pandas.core.frame.DataFrame'>\n",
      "RangeIndex: 348 entries, 0 to 347\n",
      "Data columns (total 1 columns):\n",
      " #   Column                          Non-Null Count  Dtype \n",
      "---  ------                          --------------  ----- \n",
      " 0   A Detailed Review of the Place  348 non-null    object\n",
      "dtypes: object(1)\n",
      "memory usage: 2.8+ KB\n"
     ]
    }
   ],
   "source": [
    "test_data.info()"
   ]
  },
  {
   "cell_type": "markdown",
   "id": "bc73ad22",
   "metadata": {},
   "source": [
    "### Sentiment Analysis"
   ]
  },
  {
   "cell_type": "markdown",
   "id": "6a75bceb",
   "metadata": {},
   "source": [
    "#### Training Dataset"
   ]
  },
  {
   "cell_type": "code",
   "execution_count": 160,
   "id": "e112a7b5",
   "metadata": {},
   "outputs": [
    {
     "name": "stderr",
     "output_type": "stream",
     "text": [
      "[nltk_data] Downloading package vader_lexicon to\n",
      "[nltk_data]     C:\\Users\\kshitiz.s.lv\\AppData\\Roaming\\nltk_data...\n",
      "[nltk_data]   Package vader_lexicon is already up-to-date!\n"
     ]
    },
    {
     "data": {
      "text/plain": [
       "True"
      ]
     },
     "execution_count": 160,
     "metadata": {},
     "output_type": "execute_result"
    }
   ],
   "source": [
    "import nltk\n",
    "from nltk.sentiment.vader import SentimentIntensityAnalyzer\n",
    "nltk.download('vader_lexicon')"
   ]
  },
  {
   "cell_type": "code",
   "execution_count": 161,
   "id": "3fa47ac5",
   "metadata": {},
   "outputs": [
    {
     "data": {
      "text/html": [
       "<div>\n",
       "<style scoped>\n",
       "    .dataframe tbody tr th:only-of-type {\n",
       "        vertical-align: middle;\n",
       "    }\n",
       "\n",
       "    .dataframe tbody tr th {\n",
       "        vertical-align: top;\n",
       "    }\n",
       "\n",
       "    .dataframe thead th {\n",
       "        text-align: right;\n",
       "    }\n",
       "</style>\n",
       "<table border=\"1\" class=\"dataframe\">\n",
       "  <thead>\n",
       "    <tr style=\"text-align: right;\">\n",
       "      <th></th>\n",
       "      <th>A Detailed Review of the Place</th>\n",
       "      <th>Sentiment</th>\n",
       "      <th>Sentiment based on Ratings Scale 1-5</th>\n",
       "      <th>Sentiment_by_Model</th>\n",
       "    </tr>\n",
       "  </thead>\n",
       "  <tbody>\n",
       "    <tr>\n",
       "      <th>0</th>\n",
       "      <td>Awesome experience with a friend who was in a ...</td>\n",
       "      <td>0.4404</td>\n",
       "      <td>Positive</td>\n",
       "      <td>Positive</td>\n",
       "    </tr>\n",
       "    <tr>\n",
       "      <th>1</th>\n",
       "      <td>It was a good visit to the zoo  my son loved a...</td>\n",
       "      <td>0.8462</td>\n",
       "      <td>Neutral</td>\n",
       "      <td>Positive</td>\n",
       "    </tr>\n",
       "    <tr>\n",
       "      <th>2</th>\n",
       "      <td>Have been wanting to visit this place since th...</td>\n",
       "      <td>-0.9053</td>\n",
       "      <td>Neutral</td>\n",
       "      <td>Negative</td>\n",
       "    </tr>\n",
       "    <tr>\n",
       "      <th>3</th>\n",
       "      <td>It was too overcrowded even to have a look pro...</td>\n",
       "      <td>0.0516</td>\n",
       "      <td>Negative</td>\n",
       "      <td>Positive</td>\n",
       "    </tr>\n",
       "    <tr>\n",
       "      <th>4</th>\n",
       "      <td>A land mark which you cannot miss while in the...</td>\n",
       "      <td>0.1139</td>\n",
       "      <td>Positive</td>\n",
       "      <td>Positive</td>\n",
       "    </tr>\n",
       "  </tbody>\n",
       "</table>\n",
       "</div>"
      ],
      "text/plain": [
       "                      A Detailed Review of the Place  Sentiment  \\\n",
       "0  Awesome experience with a friend who was in a ...     0.4404   \n",
       "1  It was a good visit to the zoo  my son loved a...     0.8462   \n",
       "2  Have been wanting to visit this place since th...    -0.9053   \n",
       "3  It was too overcrowded even to have a look pro...     0.0516   \n",
       "4  A land mark which you cannot miss while in the...     0.1139   \n",
       "\n",
       "  Sentiment based on Ratings Scale 1-5 Sentiment_by_Model  \n",
       "0                             Positive           Positive  \n",
       "1                              Neutral           Positive  \n",
       "2                              Neutral           Negative  \n",
       "3                             Negative           Positive  \n",
       "4                             Positive           Positive  "
      ]
     },
     "execution_count": 161,
     "metadata": {},
     "output_type": "execute_result"
    }
   ],
   "source": [
    "sid = SentimentIntensityAnalyzer()\n",
    "\n",
    "train_data['Sentiment'] = train_data['A Detailed Review of the Place'].apply(lambda x: sid.polarity_scores(x)['compound'])\n",
    "train_data['Sentiment_by_Model'] = train_data['Sentiment'].apply(lambda x: 'Positive' if x > 0 else ('Negative' if x < 0 else 'Neutral'))\n",
    "\n",
    "train_data_sentiment_label = train_data[['A Detailed Review of the Place', 'Sentiment', 'Sentiment based on Ratings Scale 1-5', 'Sentiment_by_Model']]\n",
    "train_data_sentiment_label.head()"
   ]
  },
  {
   "cell_type": "code",
   "execution_count": 162,
   "id": "38b55485",
   "metadata": {
    "scrolled": true
   },
   "outputs": [
    {
     "data": {
      "text/plain": [
       "Sentiment_by_Model\n",
       "Positive    594\n",
       "Negative     65\n",
       "Neutral      16\n",
       "Name: count, dtype: int64"
      ]
     },
     "execution_count": 162,
     "metadata": {},
     "output_type": "execute_result"
    }
   ],
   "source": [
    "train_data_sentiment_label['Sentiment_by_Model'].value_counts()"
   ]
  },
  {
   "cell_type": "code",
   "execution_count": 163,
   "id": "4465956f",
   "metadata": {},
   "outputs": [
    {
     "data": {
      "text/html": [
       "<div>\n",
       "<style scoped>\n",
       "    .dataframe tbody tr th:only-of-type {\n",
       "        vertical-align: middle;\n",
       "    }\n",
       "\n",
       "    .dataframe tbody tr th {\n",
       "        vertical-align: top;\n",
       "    }\n",
       "\n",
       "    .dataframe thead th {\n",
       "        text-align: right;\n",
       "    }\n",
       "</style>\n",
       "<table border=\"1\" class=\"dataframe\">\n",
       "  <thead>\n",
       "    <tr style=\"text-align: right;\">\n",
       "      <th></th>\n",
       "      <th>A Detailed Review of the Place</th>\n",
       "      <th>Sentiment based on Ratings Scale 1-5</th>\n",
       "      <th>Sentiment_by_Model</th>\n",
       "    </tr>\n",
       "  </thead>\n",
       "  <tbody>\n",
       "    <tr>\n",
       "      <th>0</th>\n",
       "      <td>Awesome experience with a friend who was in a ...</td>\n",
       "      <td>Positive</td>\n",
       "      <td>Positive</td>\n",
       "    </tr>\n",
       "    <tr>\n",
       "      <th>1</th>\n",
       "      <td>It was a good visit to the zoo  my son loved a...</td>\n",
       "      <td>Neutral</td>\n",
       "      <td>Positive</td>\n",
       "    </tr>\n",
       "    <tr>\n",
       "      <th>2</th>\n",
       "      <td>Have been wanting to visit this place since th...</td>\n",
       "      <td>Neutral</td>\n",
       "      <td>Negative</td>\n",
       "    </tr>\n",
       "    <tr>\n",
       "      <th>3</th>\n",
       "      <td>It was too overcrowded even to have a look pro...</td>\n",
       "      <td>Negative</td>\n",
       "      <td>Positive</td>\n",
       "    </tr>\n",
       "    <tr>\n",
       "      <th>4</th>\n",
       "      <td>A land mark which you cannot miss while in the...</td>\n",
       "      <td>Positive</td>\n",
       "      <td>Positive</td>\n",
       "    </tr>\n",
       "    <tr>\n",
       "      <th>...</th>\n",
       "      <td>...</td>\n",
       "      <td>...</td>\n",
       "      <td>...</td>\n",
       "    </tr>\n",
       "    <tr>\n",
       "      <th>700</th>\n",
       "      <td>The nehru zoological in hyderabad is a very we...</td>\n",
       "      <td>Positive</td>\n",
       "      <td>Positive</td>\n",
       "    </tr>\n",
       "    <tr>\n",
       "      <th>701</th>\n",
       "      <td>A very rarely visited and populated sight seei...</td>\n",
       "      <td>Negative</td>\n",
       "      <td>Negative</td>\n",
       "    </tr>\n",
       "    <tr>\n",
       "      <th>702</th>\n",
       "      <td>Overall no maintenance of this place  plastic ...</td>\n",
       "      <td>Negative</td>\n",
       "      <td>Negative</td>\n",
       "    </tr>\n",
       "    <tr>\n",
       "      <th>704</th>\n",
       "      <td>This place will give you good pleasant nature ...</td>\n",
       "      <td>Positive</td>\n",
       "      <td>Positive</td>\n",
       "    </tr>\n",
       "    <tr>\n",
       "      <th>705</th>\n",
       "      <td>If you are visiting hyderabad this place you m...</td>\n",
       "      <td>Positive</td>\n",
       "      <td>Positive</td>\n",
       "    </tr>\n",
       "  </tbody>\n",
       "</table>\n",
       "<p>675 rows × 3 columns</p>\n",
       "</div>"
      ],
      "text/plain": [
       "                        A Detailed Review of the Place  \\\n",
       "0    Awesome experience with a friend who was in a ...   \n",
       "1    It was a good visit to the zoo  my son loved a...   \n",
       "2    Have been wanting to visit this place since th...   \n",
       "3    It was too overcrowded even to have a look pro...   \n",
       "4    A land mark which you cannot miss while in the...   \n",
       "..                                                 ...   \n",
       "700  The nehru zoological in hyderabad is a very we...   \n",
       "701  A very rarely visited and populated sight seei...   \n",
       "702  Overall no maintenance of this place  plastic ...   \n",
       "704  This place will give you good pleasant nature ...   \n",
       "705  If you are visiting hyderabad this place you m...   \n",
       "\n",
       "    Sentiment based on Ratings Scale 1-5 Sentiment_by_Model  \n",
       "0                               Positive           Positive  \n",
       "1                                Neutral           Positive  \n",
       "2                                Neutral           Negative  \n",
       "3                               Negative           Positive  \n",
       "4                               Positive           Positive  \n",
       "..                                   ...                ...  \n",
       "700                             Positive           Positive  \n",
       "701                             Negative           Negative  \n",
       "702                             Negative           Negative  \n",
       "704                             Positive           Positive  \n",
       "705                             Positive           Positive  \n",
       "\n",
       "[675 rows x 3 columns]"
      ]
     },
     "execution_count": 163,
     "metadata": {},
     "output_type": "execute_result"
    }
   ],
   "source": [
    "train_data_sentiment_label = train_data_sentiment_label.drop('Sentiment', axis=1)\n",
    "train_data_sentiment_label"
   ]
  },
  {
   "cell_type": "code",
   "execution_count": 164,
   "id": "3d195738",
   "metadata": {},
   "outputs": [
    {
     "name": "stdout",
     "output_type": "stream",
     "text": [
      "<class 'pandas.core.frame.DataFrame'>\n",
      "Index: 675 entries, 0 to 705\n",
      "Data columns (total 3 columns):\n",
      " #   Column                                Non-Null Count  Dtype \n",
      "---  ------                                --------------  ----- \n",
      " 0   A Detailed Review of the Place        675 non-null    object\n",
      " 1   Sentiment based on Ratings Scale 1-5  675 non-null    object\n",
      " 2   Sentiment_by_Model                    675 non-null    object\n",
      "dtypes: object(3)\n",
      "memory usage: 21.1+ KB\n"
     ]
    }
   ],
   "source": [
    "train_data_sentiment_label.info()"
   ]
  },
  {
   "cell_type": "code",
   "execution_count": 165,
   "id": "48091a3d",
   "metadata": {},
   "outputs": [
    {
     "name": "stdout",
     "output_type": "stream",
     "text": [
      "Accuracy: 81.78%\n"
     ]
    }
   ],
   "source": [
    "accuracy = accuracy_score(train_data_sentiment_label['Sentiment based on Ratings Scale 1-5'], train_data_sentiment_label['Sentiment_by_Model'])\n",
    "print(f\"Accuracy: {accuracy * 100:.2f}%\")"
   ]
  },
  {
   "cell_type": "code",
   "execution_count": 184,
   "id": "8fe9a22f",
   "metadata": {},
   "outputs": [
    {
     "data": {
      "image/png": "[encoded data removed]",
      "text/plain": [
       "<Figure size 800x1200 with 2 Axes>"
      ]
     },
     "metadata": {},
     "output_type": "display_data"
    }
   ],
   "source": [
    "sentiment_counts = train_data['Sentiment_by_Model'].value_counts()\n",
    "colors = ['lightcoral', 'lightskyblue', 'lightgreen']\n",
    "explode = (0.1, 0.1, 0.1) \n",
    "\n",
    "fig, (ax1, ax2) = plt.subplots(2, 1, figsize=(8, 12), gridspec_kw={'height_ratios': [3, 1]})\n",
    "\n",
    "ax1.pie(sentiment_counts, labels=sentiment_counts.index, autopct='%1.1f%%', startangle=90, explode=explode, colors=colors)\n",
    "ax1.set_title('Sentiments Distribution')\n",
    "\n",
    "ax1.legend(labels=sentiment_counts.index, loc='upper right')\n",
    "\n",
    "table_data = [sentiment_counts.values]\n",
    "table_row_labels = ['Counts']\n",
    "table_col_labels = sentiment_counts.index\n",
    "\n",
    "cell_colors = [colors]  \n",
    "\n",
    "ax2.axis('off')\n",
    "table = ax2.table(cellText=table_data, rowLabels=table_row_labels, colLabels=table_col_labels, loc='center', cellLoc='center', cellColours=cell_colors)\n",
    "table.auto_set_font_size(False)\n",
    "table.set_fontsize(10)\n",
    "table.auto_set_column_width([0, 1, 2])  \n",
    "\n",
    "plt.show()"
   ]
  },
  {
   "cell_type": "code",
   "execution_count": 170,
   "id": "9379e4ac",
   "metadata": {},
   "outputs": [
    {
     "data": {
      "image/png": "[encoded data removed]",
      "text/plain": [
       "<Figure size 800x600 with 2 Axes>"
      ]
     },
     "metadata": {},
     "output_type": "display_data"
    }
   ],
   "source": [
    "y_true = train_data_sentiment_label['Sentiment based on Ratings Scale 1-5']\n",
    "y_pred = train_data_sentiment_label['Sentiment_by_Model']\n",
    "\n",
    "conf_matrix = confusion_matrix(y_true, y_pred)\n",
    "\n",
    "plt.figure(figsize=(8, 6))\n",
    "sns.heatmap(conf_matrix, annot=True, fmt='d', cmap='Blues', xticklabels=['Negative', 'Neutral', 'Positive'], yticklabels=['Negative', 'Neutral', 'Positive'])\n",
    "plt.xlabel('Predicted Label')\n",
    "plt.ylabel('True Label')\n",
    "plt.title('Confusion Matrix')\n",
    "plt.show()"
   ]
  },
  {
   "cell_type": "markdown",
   "id": "3caefc51",
   "metadata": {},
   "source": [
    "#### Test Dataset"
   ]
  },
  {
   "cell_type": "code",
   "execution_count": 172,
   "id": "846902ab",
   "metadata": {},
   "outputs": [
    {
     "data": {
      "text/html": [
       "<div>\n",
       "<style scoped>\n",
       "    .dataframe tbody tr th:only-of-type {\n",
       "        vertical-align: middle;\n",
       "    }\n",
       "\n",
       "    .dataframe tbody tr th {\n",
       "        vertical-align: top;\n",
       "    }\n",
       "\n",
       "    .dataframe thead th {\n",
       "        text-align: right;\n",
       "    }\n",
       "</style>\n",
       "<table border=\"1\" class=\"dataframe\">\n",
       "  <thead>\n",
       "    <tr style=\"text-align: right;\">\n",
       "      <th></th>\n",
       "      <th>A Detailed Review of the Place</th>\n",
       "      <th>Sentiment_by_Model</th>\n",
       "    </tr>\n",
       "  </thead>\n",
       "  <tbody>\n",
       "    <tr>\n",
       "      <th>0</th>\n",
       "      <td>Great hub of hanging out  boating  eating and ...</td>\n",
       "      <td>Positive</td>\n",
       "    </tr>\n",
       "    <tr>\n",
       "      <th>1</th>\n",
       "      <td>It s good and it was so long ago that i comple...</td>\n",
       "      <td>Positive</td>\n",
       "    </tr>\n",
       "    <tr>\n",
       "      <th>2</th>\n",
       "      <td>Must be an imposing structure but really cant ...</td>\n",
       "      <td>Negative</td>\n",
       "    </tr>\n",
       "    <tr>\n",
       "      <th>3</th>\n",
       "      <td>Hussain sagar lake adds a good view but from a...</td>\n",
       "      <td>Positive</td>\n",
       "    </tr>\n",
       "    <tr>\n",
       "      <th>4</th>\n",
       "      <td>The temple is situated on a hilltop   the view...</td>\n",
       "      <td>Positive</td>\n",
       "    </tr>\n",
       "  </tbody>\n",
       "</table>\n",
       "</div>"
      ],
      "text/plain": [
       "                      A Detailed Review of the Place Sentiment_by_Model\n",
       "0  Great hub of hanging out  boating  eating and ...           Positive\n",
       "1  It s good and it was so long ago that i comple...           Positive\n",
       "2  Must be an imposing structure but really cant ...           Negative\n",
       "3  Hussain sagar lake adds a good view but from a...           Positive\n",
       "4  The temple is situated on a hilltop   the view...           Positive"
      ]
     },
     "execution_count": 172,
     "metadata": {},
     "output_type": "execute_result"
    }
   ],
   "source": [
    "test_data['Sentiment'] = test_data['A Detailed Review of the Place'].apply(lambda x: sid.polarity_scores(x)['compound'])\n",
    "test_data['Sentiment_by_Model'] = test_data['Sentiment'].apply(lambda x: 'Positive' if x > 0 else ('Negative' if x < 0 else 'Neutral'))\n",
    "\n",
    "test_data_sentiment_label = test_data[['A Detailed Review of the Place', 'Sentiment_by_Model']]\n",
    "test_data_sentiment_label.head()"
   ]
  },
  {
   "cell_type": "code",
   "execution_count": 183,
   "id": "f096329a",
   "metadata": {},
   "outputs": [
    {
     "data": {
      "image/png": "[encoded data removed]",
      "text/plain": [
       "<Figure size 800x1200 with 2 Axes>"
      ]
     },
     "metadata": {},
     "output_type": "display_data"
    }
   ],
   "source": [
    "sentiment_counts = test_data['Sentiment_by_Model'].value_counts()\n",
    "colors = ['lightcoral', 'lightskyblue', 'lightgreen']\n",
    "explode = (0.1, 0.1, 0.1) \n",
    "\n",
    "fig, (ax1, ax2) = plt.subplots(2, 1, figsize=(8, 12), gridspec_kw={'height_ratios': [3, 1]})\n",
    "\n",
    "ax1.pie(sentiment_counts, labels=sentiment_counts.index, autopct='%1.1f%%', startangle=90, explode=explode, colors=colors)\n",
    "ax1.set_title('Sentiments Distribution')\n",
    "\n",
    "ax1.legend(labels=sentiment_counts.index, loc='upper right')\n",
    "\n",
    "table_data = [sentiment_counts.values]\n",
    "table_row_labels = ['Counts']\n",
    "table_col_labels = sentiment_counts.index\n",
    "\n",
    "cell_colors = [colors]  \n",
    "\n",
    "ax2.axis('off')\n",
    "table = ax2.table(cellText=table_data, rowLabels=table_row_labels, colLabels=table_col_labels, loc='center', cellLoc='center', cellColours=cell_colors)\n",
    "table.auto_set_font_size(False)\n",
    "table.set_fontsize(10)\n",
    "table.auto_set_column_width([0, 1, 2])  \n",
    "\n",
    "plt.show()"
   ]
  }
 ],
 "metadata": {
  "kernelspec": {
   "display_name": "Python 3 (ipykernel)",
   "language": "python",
   "name": "python3"
  },
  "language_info": {
   "codemirror_mode": {
    "name": "ipython",
    "version": 3
   },
   "file_extension": ".py",
   "mimetype": "text/x-python",
   "name": "python",
   "nbconvert_exporter": "python",
   "pygments_lexer": "ipython3",
   "version": "3.11.5"
  }
 },
 "nbformat": 4,
 "nbformat_minor": 5
}
